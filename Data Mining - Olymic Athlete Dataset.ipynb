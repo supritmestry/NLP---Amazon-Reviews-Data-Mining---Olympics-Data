{
 "cells": [
  {
   "cell_type": "code",
   "execution_count": 113,
   "id": "a46e7680",
   "metadata": {},
   "outputs": [],
   "source": [
    "import pandas as pd\n",
    "import numpy as np\n",
    "import matplotlib.pyplot as plt\n",
    "import seaborn as sns\n",
    "import warnings\n",
    "from statsmodels.stats.outliers_influence import variance_inflation_factor\n",
    "import statsmodels.api as sm\n",
    "from sklearn.tree import DecisionTreeClassifier\n",
    "from sklearn import tree\n",
    "from sklearn.model_selection import train_test_split\n",
    "from sklearn.metrics import classification_report, confusion_matrix\n",
    "import warnings\n",
    "from sklearn.metrics import precision_score, recall_score, f1_score, accuracy_score, mean_squared_error\n",
    "from sklearn import tree\n",
    "from sklearn.tree import export_graphviz\n",
    "from sklearn.linear_model import LogisticRegression\n",
    "from sklearn.cluster import KMeans\n",
    "\n",
    "from sklearn.ensemble import RandomForestClassifier\n"
   ]
  },
  {
   "cell_type": "code",
   "execution_count": 64,
   "id": "5dadb8f6",
   "metadata": {},
   "outputs": [
    {
     "name": "stdout",
     "output_type": "stream",
     "text": [
      "Requirement already satisfied: graphviz in /opt/anaconda3/lib/python3.8/site-packages (0.20)\n",
      "Note: you may need to restart the kernel to use updated packages.\n"
     ]
    }
   ],
   "source": [
    "pip install graphviz"
   ]
  },
  {
   "cell_type": "code",
   "execution_count": 65,
   "id": "553d5cef",
   "metadata": {},
   "outputs": [],
   "source": [
    "import os\n",
    "\n",
    "os.environ['PATH'] = os.environ['PATH']+';'+os.environ['CONDA_PREFIX']+r\"\\Library\\bin\\graphviz\""
   ]
  },
  {
   "cell_type": "code",
   "execution_count": 66,
   "id": "fe2d9ba7",
   "metadata": {},
   "outputs": [
    {
     "name": "stdout",
     "output_type": "stream",
     "text": [
      "Requirement already satisfied: pydotplus in /opt/anaconda3/lib/python3.8/site-packages (2.0.2)\n",
      "Requirement already satisfied: pyparsing>=2.0.1 in /opt/anaconda3/lib/python3.8/site-packages (from pydotplus) (2.4.7)\n",
      "Note: you may need to restart the kernel to use updated packages.\n"
     ]
    }
   ],
   "source": [
    "\n",
    "pip install -U pydotplus"
   ]
  },
  {
   "cell_type": "code",
   "execution_count": 6,
   "id": "c7b9ce47",
   "metadata": {},
   "outputs": [],
   "source": [
    "athlete_data = pd.read_excel(\"/Users/siddhi/Library/Containers/com.apple.iWork.Keynote/Data/Documents/Documents/ALY6040/Project/athlete_RAW.xlsx\")"
   ]
  },
  {
   "cell_type": "code",
   "execution_count": 7,
   "id": "95276ec9",
   "metadata": {},
   "outputs": [
    {
     "data": {
      "text/plain": [
       "(67328, 14)"
      ]
     },
     "execution_count": 7,
     "metadata": {},
     "output_type": "execute_result"
    }
   ],
   "source": [
    "athlete_data.shape"
   ]
  },
  {
   "cell_type": "code",
   "execution_count": 8,
   "id": "95e61d95",
   "metadata": {},
   "outputs": [
    {
     "data": {
      "text/html": [
       "<div>\n",
       "<style scoped>\n",
       "    .dataframe tbody tr th:only-of-type {\n",
       "        vertical-align: middle;\n",
       "    }\n",
       "\n",
       "    .dataframe tbody tr th {\n",
       "        vertical-align: top;\n",
       "    }\n",
       "\n",
       "    .dataframe thead th {\n",
       "        text-align: right;\n",
       "    }\n",
       "</style>\n",
       "<table border=\"1\" class=\"dataframe\">\n",
       "  <thead>\n",
       "    <tr style=\"text-align: right;\">\n",
       "      <th></th>\n",
       "      <th>ID</th>\n",
       "      <th>Name</th>\n",
       "      <th>Sex</th>\n",
       "      <th>Age</th>\n",
       "      <th>Height</th>\n",
       "      <th>Weight</th>\n",
       "      <th>Team</th>\n",
       "      <th>Games</th>\n",
       "      <th>Year</th>\n",
       "      <th>Season</th>\n",
       "      <th>City</th>\n",
       "      <th>Sport</th>\n",
       "      <th>Event</th>\n",
       "      <th>Medal</th>\n",
       "    </tr>\n",
       "  </thead>\n",
       "  <tbody>\n",
       "    <tr>\n",
       "      <th>0</th>\n",
       "      <td>23</td>\n",
       "      <td>Fritz Aanes</td>\n",
       "      <td>M</td>\n",
       "      <td>26.0</td>\n",
       "      <td>187.0</td>\n",
       "      <td>89.0</td>\n",
       "      <td>Norway</td>\n",
       "      <td>2004 Summer</td>\n",
       "      <td>2004</td>\n",
       "      <td>Summer</td>\n",
       "      <td>Athina</td>\n",
       "      <td>Wrestling</td>\n",
       "      <td>Wrestling Men's Light-Heavyweight, Greco-Roman</td>\n",
       "      <td>NaN</td>\n",
       "    </tr>\n",
       "    <tr>\n",
       "      <th>1</th>\n",
       "      <td>49</td>\n",
       "      <td>Moonika Aava</td>\n",
       "      <td>F</td>\n",
       "      <td>24.0</td>\n",
       "      <td>168.0</td>\n",
       "      <td>65.0</td>\n",
       "      <td>Estonia</td>\n",
       "      <td>2004 Summer</td>\n",
       "      <td>2004</td>\n",
       "      <td>Summer</td>\n",
       "      <td>Athina</td>\n",
       "      <td>Athletics</td>\n",
       "      <td>Athletics Women's Javelin Throw</td>\n",
       "      <td>NaN</td>\n",
       "    </tr>\n",
       "    <tr>\n",
       "      <th>2</th>\n",
       "      <td>72</td>\n",
       "      <td>Aleksey Aleksandrovich Abalmasov</td>\n",
       "      <td>M</td>\n",
       "      <td>24.0</td>\n",
       "      <td>180.0</td>\n",
       "      <td>83.0</td>\n",
       "      <td>Belarus</td>\n",
       "      <td>2004 Summer</td>\n",
       "      <td>2004</td>\n",
       "      <td>Summer</td>\n",
       "      <td>Athina</td>\n",
       "      <td>Canoeing</td>\n",
       "      <td>Canoeing Men's Kayak Fours, 1,000 metres</td>\n",
       "      <td>NaN</td>\n",
       "    </tr>\n",
       "    <tr>\n",
       "      <th>3</th>\n",
       "      <td>75</td>\n",
       "      <td>Giorgos Abalof</td>\n",
       "      <td>M</td>\n",
       "      <td>22.0</td>\n",
       "      <td>178.0</td>\n",
       "      <td>70.0</td>\n",
       "      <td>Greece</td>\n",
       "      <td>2004 Summer</td>\n",
       "      <td>2004</td>\n",
       "      <td>Summer</td>\n",
       "      <td>Athina</td>\n",
       "      <td>Fencing</td>\n",
       "      <td>Fencing Men's epee, Individual</td>\n",
       "      <td>NaN</td>\n",
       "    </tr>\n",
       "    <tr>\n",
       "      <th>4</th>\n",
       "      <td>81</td>\n",
       "      <td>Georgios Abaris</td>\n",
       "      <td>M</td>\n",
       "      <td>22.0</td>\n",
       "      <td>190.0</td>\n",
       "      <td>77.0</td>\n",
       "      <td>Greece</td>\n",
       "      <td>2004 Summer</td>\n",
       "      <td>2004</td>\n",
       "      <td>Summer</td>\n",
       "      <td>Athina</td>\n",
       "      <td>Football</td>\n",
       "      <td>Football Men's Football</td>\n",
       "      <td>NaN</td>\n",
       "    </tr>\n",
       "  </tbody>\n",
       "</table>\n",
       "</div>"
      ],
      "text/plain": [
       "   ID                              Name Sex   Age  Height  Weight     Team  \\\n",
       "0  23                       Fritz Aanes   M  26.0   187.0    89.0   Norway   \n",
       "1  49                      Moonika Aava   F  24.0   168.0    65.0  Estonia   \n",
       "2  72  Aleksey Aleksandrovich Abalmasov   M  24.0   180.0    83.0  Belarus   \n",
       "3  75                    Giorgos Abalof   M  22.0   178.0    70.0   Greece   \n",
       "4  81                   Georgios Abaris   M  22.0   190.0    77.0   Greece   \n",
       "\n",
       "         Games  Year  Season    City      Sport  \\\n",
       "0  2004 Summer  2004  Summer  Athina  Wrestling   \n",
       "1  2004 Summer  2004  Summer  Athina  Athletics   \n",
       "2  2004 Summer  2004  Summer  Athina   Canoeing   \n",
       "3  2004 Summer  2004  Summer  Athina    Fencing   \n",
       "4  2004 Summer  2004  Summer  Athina   Football   \n",
       "\n",
       "                                            Event Medal  \n",
       "0  Wrestling Men's Light-Heavyweight, Greco-Roman   NaN  \n",
       "1                 Athletics Women's Javelin Throw   NaN  \n",
       "2        Canoeing Men's Kayak Fours, 1,000 metres   NaN  \n",
       "3                  Fencing Men's epee, Individual   NaN  \n",
       "4                         Football Men's Football   NaN  "
      ]
     },
     "execution_count": 8,
     "metadata": {},
     "output_type": "execute_result"
    }
   ],
   "source": [
    "athlete_data.head()"
   ]
  },
  {
   "cell_type": "code",
   "execution_count": 9,
   "id": "0e01ac45",
   "metadata": {},
   "outputs": [
    {
     "name": "stdout",
     "output_type": "stream",
     "text": [
      "<class 'pandas.core.frame.DataFrame'>\n",
      "RangeIndex: 67328 entries, 0 to 67327\n",
      "Data columns (total 14 columns):\n",
      " #   Column  Non-Null Count  Dtype  \n",
      "---  ------  --------------  -----  \n",
      " 0   ID      67328 non-null  int64  \n",
      " 1   Name    67328 non-null  object \n",
      " 2   Sex     67328 non-null  object \n",
      " 3   Age     67326 non-null  float64\n",
      " 4   Height  66769 non-null  float64\n",
      " 5   Weight  66291 non-null  float64\n",
      " 6   Team    67328 non-null  object \n",
      " 7   Games   67328 non-null  object \n",
      " 8   Year    67328 non-null  int64  \n",
      " 9   Season  67328 non-null  object \n",
      " 10  City    67328 non-null  object \n",
      " 11  Sport   67328 non-null  object \n",
      " 12  Event   67328 non-null  object \n",
      " 13  Medal   9656 non-null   object \n",
      "dtypes: float64(3), int64(2), object(9)\n",
      "memory usage: 7.2+ MB\n"
     ]
    }
   ],
   "source": [
    "athlete_data.info()"
   ]
  },
  {
   "cell_type": "code",
   "execution_count": 10,
   "id": "2a011c48",
   "metadata": {},
   "outputs": [
    {
     "name": "stdout",
     "output_type": "stream",
     "text": [
      "           ID                              Name Sex   Age  Height  Weight  \\\n",
      "0          23                       Fritz Aanes   M  26.0   187.0    89.0   \n",
      "1          49                      Moonika Aava   F  24.0   168.0    65.0   \n",
      "2          72  Aleksey Aleksandrovich Abalmasov   M  24.0   180.0    83.0   \n",
      "3          75                    Giorgos Abalof   M  22.0   178.0    70.0   \n",
      "4          81                   Georgios Abaris   M  22.0   190.0    77.0   \n",
      "...       ...                               ...  ..   ...     ...     ...   \n",
      "67323  135528                     Marc Zwiebler   M  32.0   181.0    75.0   \n",
      "67324  135547     Viktoriya Viktorovna Zyabkina   F  23.0   174.0    62.0   \n",
      "67325  135547     Viktoriya Viktorovna Zyabkina   F  23.0   174.0    62.0   \n",
      "67326  135547     Viktoriya Viktorovna Zyabkina   F  23.0   174.0    62.0   \n",
      "67327  135568            Olga Igorevna Zyuzkova   F  33.0   171.0    69.0   \n",
      "\n",
      "             Team        Games  Year  Season            City       Sport  \\\n",
      "0          Norway  2004 Summer  2004  Summer          Athina   Wrestling   \n",
      "1         Estonia  2004 Summer  2004  Summer          Athina   Athletics   \n",
      "2         Belarus  2004 Summer  2004  Summer          Athina    Canoeing   \n",
      "3          Greece  2004 Summer  2004  Summer          Athina     Fencing   \n",
      "4          Greece  2004 Summer  2004  Summer          Athina    Football   \n",
      "...           ...          ...   ...     ...             ...         ...   \n",
      "67323     Germany  2016 Summer  2016  Summer  Rio de Janeiro   Badminton   \n",
      "67324  Kazakhstan  2016 Summer  2016  Summer  Rio de Janeiro   Athletics   \n",
      "67325  Kazakhstan  2016 Summer  2016  Summer  Rio de Janeiro   Athletics   \n",
      "67326  Kazakhstan  2016 Summer  2016  Summer  Rio de Janeiro   Athletics   \n",
      "67327     Belarus  2016 Summer  2016  Summer  Rio de Janeiro  Basketball   \n",
      "\n",
      "                                                Event Medal  \n",
      "0      Wrestling Men's Light-Heavyweight, Greco-Roman   NaN  \n",
      "1                     Athletics Women's Javelin Throw   NaN  \n",
      "2            Canoeing Men's Kayak Fours, 1,000 metres   NaN  \n",
      "3                      Fencing Men's epee, Individual   NaN  \n",
      "4                             Football Men's Football   NaN  \n",
      "...                                               ...   ...  \n",
      "67323                         Badminton Men's Singles   NaN  \n",
      "67324                    Athletics Women's 100 metres   NaN  \n",
      "67325                    Athletics Women's 200 metres   NaN  \n",
      "67326          Athletics Women's 4 x 100 metres Relay   NaN  \n",
      "67327                   Basketball Women's Basketball   NaN  \n",
      "\n",
      "[66186 rows x 14 columns]\n"
     ]
    }
   ],
   "source": [
    "\n",
    "data = athlete_data.dropna(subset= ['Weight','Height'])\n",
    "\n",
    "print(data)"
   ]
  },
  {
   "cell_type": "code",
   "execution_count": 11,
   "id": "0d41d7f7",
   "metadata": {},
   "outputs": [
    {
     "name": "stderr",
     "output_type": "stream",
     "text": [
      "<ipython-input-11-f7d003858d3b>:1: SettingWithCopyWarning: \n",
      "A value is trying to be set on a copy of a slice from a DataFrame.\n",
      "Try using .loc[row_indexer,col_indexer] = value instead\n",
      "\n",
      "See the caveats in the documentation: https://pandas.pydata.org/pandas-docs/stable/user_guide/indexing.html#returning-a-view-versus-a-copy\n",
      "  data['BMI']= (data['Weight'] / (data['Height'] * data['Height'])) * 10000\n"
     ]
    }
   ],
   "source": [
    "data['BMI']= (data['Weight'] / (data['Height'] * data['Height'])) * 10000"
   ]
  },
  {
   "cell_type": "code",
   "execution_count": 12,
   "id": "5815baf7",
   "metadata": {},
   "outputs": [
    {
     "name": "stderr",
     "output_type": "stream",
     "text": [
      "<ipython-input-12-8d5fcce8a7e5>:1: SettingWithCopyWarning: \n",
      "A value is trying to be set on a copy of a slice from a DataFrame.\n",
      "Try using .loc[row_indexer,col_indexer] = value instead\n",
      "\n",
      "See the caveats in the documentation: https://pandas.pydata.org/pandas-docs/stable/user_guide/indexing.html#returning-a-view-versus-a-copy\n",
      "  data['Medal'] = data['Medal'].fillna('No medal')\n"
     ]
    },
    {
     "data": {
      "text/html": [
       "<div>\n",
       "<style scoped>\n",
       "    .dataframe tbody tr th:only-of-type {\n",
       "        vertical-align: middle;\n",
       "    }\n",
       "\n",
       "    .dataframe tbody tr th {\n",
       "        vertical-align: top;\n",
       "    }\n",
       "\n",
       "    .dataframe thead th {\n",
       "        text-align: right;\n",
       "    }\n",
       "</style>\n",
       "<table border=\"1\" class=\"dataframe\">\n",
       "  <thead>\n",
       "    <tr style=\"text-align: right;\">\n",
       "      <th></th>\n",
       "      <th>ID</th>\n",
       "      <th>Name</th>\n",
       "      <th>Sex</th>\n",
       "      <th>Age</th>\n",
       "      <th>Height</th>\n",
       "      <th>Weight</th>\n",
       "      <th>Team</th>\n",
       "      <th>Games</th>\n",
       "      <th>Year</th>\n",
       "      <th>Season</th>\n",
       "      <th>City</th>\n",
       "      <th>Sport</th>\n",
       "      <th>Event</th>\n",
       "      <th>Medal</th>\n",
       "      <th>BMI</th>\n",
       "    </tr>\n",
       "  </thead>\n",
       "  <tbody>\n",
       "    <tr>\n",
       "      <th>0</th>\n",
       "      <td>23</td>\n",
       "      <td>Fritz Aanes</td>\n",
       "      <td>M</td>\n",
       "      <td>26.0</td>\n",
       "      <td>187.0</td>\n",
       "      <td>89.0</td>\n",
       "      <td>Norway</td>\n",
       "      <td>2004 Summer</td>\n",
       "      <td>2004</td>\n",
       "      <td>Summer</td>\n",
       "      <td>Athina</td>\n",
       "      <td>Wrestling</td>\n",
       "      <td>Wrestling Men's Light-Heavyweight, Greco-Roman</td>\n",
       "      <td>No medal</td>\n",
       "      <td>25.451114</td>\n",
       "    </tr>\n",
       "    <tr>\n",
       "      <th>1</th>\n",
       "      <td>49</td>\n",
       "      <td>Moonika Aava</td>\n",
       "      <td>F</td>\n",
       "      <td>24.0</td>\n",
       "      <td>168.0</td>\n",
       "      <td>65.0</td>\n",
       "      <td>Estonia</td>\n",
       "      <td>2004 Summer</td>\n",
       "      <td>2004</td>\n",
       "      <td>Summer</td>\n",
       "      <td>Athina</td>\n",
       "      <td>Athletics</td>\n",
       "      <td>Athletics Women's Javelin Throw</td>\n",
       "      <td>No medal</td>\n",
       "      <td>23.030045</td>\n",
       "    </tr>\n",
       "    <tr>\n",
       "      <th>2</th>\n",
       "      <td>72</td>\n",
       "      <td>Aleksey Aleksandrovich Abalmasov</td>\n",
       "      <td>M</td>\n",
       "      <td>24.0</td>\n",
       "      <td>180.0</td>\n",
       "      <td>83.0</td>\n",
       "      <td>Belarus</td>\n",
       "      <td>2004 Summer</td>\n",
       "      <td>2004</td>\n",
       "      <td>Summer</td>\n",
       "      <td>Athina</td>\n",
       "      <td>Canoeing</td>\n",
       "      <td>Canoeing Men's Kayak Fours, 1,000 metres</td>\n",
       "      <td>No medal</td>\n",
       "      <td>25.617284</td>\n",
       "    </tr>\n",
       "    <tr>\n",
       "      <th>3</th>\n",
       "      <td>75</td>\n",
       "      <td>Giorgos Abalof</td>\n",
       "      <td>M</td>\n",
       "      <td>22.0</td>\n",
       "      <td>178.0</td>\n",
       "      <td>70.0</td>\n",
       "      <td>Greece</td>\n",
       "      <td>2004 Summer</td>\n",
       "      <td>2004</td>\n",
       "      <td>Summer</td>\n",
       "      <td>Athina</td>\n",
       "      <td>Fencing</td>\n",
       "      <td>Fencing Men's epee, Individual</td>\n",
       "      <td>No medal</td>\n",
       "      <td>22.093170</td>\n",
       "    </tr>\n",
       "    <tr>\n",
       "      <th>4</th>\n",
       "      <td>81</td>\n",
       "      <td>Georgios Abaris</td>\n",
       "      <td>M</td>\n",
       "      <td>22.0</td>\n",
       "      <td>190.0</td>\n",
       "      <td>77.0</td>\n",
       "      <td>Greece</td>\n",
       "      <td>2004 Summer</td>\n",
       "      <td>2004</td>\n",
       "      <td>Summer</td>\n",
       "      <td>Athina</td>\n",
       "      <td>Football</td>\n",
       "      <td>Football Men's Football</td>\n",
       "      <td>No medal</td>\n",
       "      <td>21.329640</td>\n",
       "    </tr>\n",
       "    <tr>\n",
       "      <th>...</th>\n",
       "      <td>...</td>\n",
       "      <td>...</td>\n",
       "      <td>...</td>\n",
       "      <td>...</td>\n",
       "      <td>...</td>\n",
       "      <td>...</td>\n",
       "      <td>...</td>\n",
       "      <td>...</td>\n",
       "      <td>...</td>\n",
       "      <td>...</td>\n",
       "      <td>...</td>\n",
       "      <td>...</td>\n",
       "      <td>...</td>\n",
       "      <td>...</td>\n",
       "      <td>...</td>\n",
       "    </tr>\n",
       "    <tr>\n",
       "      <th>67323</th>\n",
       "      <td>135528</td>\n",
       "      <td>Marc Zwiebler</td>\n",
       "      <td>M</td>\n",
       "      <td>32.0</td>\n",
       "      <td>181.0</td>\n",
       "      <td>75.0</td>\n",
       "      <td>Germany</td>\n",
       "      <td>2016 Summer</td>\n",
       "      <td>2016</td>\n",
       "      <td>Summer</td>\n",
       "      <td>Rio de Janeiro</td>\n",
       "      <td>Badminton</td>\n",
       "      <td>Badminton Men's Singles</td>\n",
       "      <td>No medal</td>\n",
       "      <td>22.893074</td>\n",
       "    </tr>\n",
       "    <tr>\n",
       "      <th>67324</th>\n",
       "      <td>135547</td>\n",
       "      <td>Viktoriya Viktorovna Zyabkina</td>\n",
       "      <td>F</td>\n",
       "      <td>23.0</td>\n",
       "      <td>174.0</td>\n",
       "      <td>62.0</td>\n",
       "      <td>Kazakhstan</td>\n",
       "      <td>2016 Summer</td>\n",
       "      <td>2016</td>\n",
       "      <td>Summer</td>\n",
       "      <td>Rio de Janeiro</td>\n",
       "      <td>Athletics</td>\n",
       "      <td>Athletics Women's 100 metres</td>\n",
       "      <td>No medal</td>\n",
       "      <td>20.478267</td>\n",
       "    </tr>\n",
       "    <tr>\n",
       "      <th>67325</th>\n",
       "      <td>135547</td>\n",
       "      <td>Viktoriya Viktorovna Zyabkina</td>\n",
       "      <td>F</td>\n",
       "      <td>23.0</td>\n",
       "      <td>174.0</td>\n",
       "      <td>62.0</td>\n",
       "      <td>Kazakhstan</td>\n",
       "      <td>2016 Summer</td>\n",
       "      <td>2016</td>\n",
       "      <td>Summer</td>\n",
       "      <td>Rio de Janeiro</td>\n",
       "      <td>Athletics</td>\n",
       "      <td>Athletics Women's 200 metres</td>\n",
       "      <td>No medal</td>\n",
       "      <td>20.478267</td>\n",
       "    </tr>\n",
       "    <tr>\n",
       "      <th>67326</th>\n",
       "      <td>135547</td>\n",
       "      <td>Viktoriya Viktorovna Zyabkina</td>\n",
       "      <td>F</td>\n",
       "      <td>23.0</td>\n",
       "      <td>174.0</td>\n",
       "      <td>62.0</td>\n",
       "      <td>Kazakhstan</td>\n",
       "      <td>2016 Summer</td>\n",
       "      <td>2016</td>\n",
       "      <td>Summer</td>\n",
       "      <td>Rio de Janeiro</td>\n",
       "      <td>Athletics</td>\n",
       "      <td>Athletics Women's 4 x 100 metres Relay</td>\n",
       "      <td>No medal</td>\n",
       "      <td>20.478267</td>\n",
       "    </tr>\n",
       "    <tr>\n",
       "      <th>67327</th>\n",
       "      <td>135568</td>\n",
       "      <td>Olga Igorevna Zyuzkova</td>\n",
       "      <td>F</td>\n",
       "      <td>33.0</td>\n",
       "      <td>171.0</td>\n",
       "      <td>69.0</td>\n",
       "      <td>Belarus</td>\n",
       "      <td>2016 Summer</td>\n",
       "      <td>2016</td>\n",
       "      <td>Summer</td>\n",
       "      <td>Rio de Janeiro</td>\n",
       "      <td>Basketball</td>\n",
       "      <td>Basketball Women's Basketball</td>\n",
       "      <td>No medal</td>\n",
       "      <td>23.597004</td>\n",
       "    </tr>\n",
       "  </tbody>\n",
       "</table>\n",
       "<p>66186 rows × 15 columns</p>\n",
       "</div>"
      ],
      "text/plain": [
       "           ID                              Name Sex   Age  Height  Weight  \\\n",
       "0          23                       Fritz Aanes   M  26.0   187.0    89.0   \n",
       "1          49                      Moonika Aava   F  24.0   168.0    65.0   \n",
       "2          72  Aleksey Aleksandrovich Abalmasov   M  24.0   180.0    83.0   \n",
       "3          75                    Giorgos Abalof   M  22.0   178.0    70.0   \n",
       "4          81                   Georgios Abaris   M  22.0   190.0    77.0   \n",
       "...       ...                               ...  ..   ...     ...     ...   \n",
       "67323  135528                     Marc Zwiebler   M  32.0   181.0    75.0   \n",
       "67324  135547     Viktoriya Viktorovna Zyabkina   F  23.0   174.0    62.0   \n",
       "67325  135547     Viktoriya Viktorovna Zyabkina   F  23.0   174.0    62.0   \n",
       "67326  135547     Viktoriya Viktorovna Zyabkina   F  23.0   174.0    62.0   \n",
       "67327  135568            Olga Igorevna Zyuzkova   F  33.0   171.0    69.0   \n",
       "\n",
       "             Team        Games  Year  Season            City       Sport  \\\n",
       "0          Norway  2004 Summer  2004  Summer          Athina   Wrestling   \n",
       "1         Estonia  2004 Summer  2004  Summer          Athina   Athletics   \n",
       "2         Belarus  2004 Summer  2004  Summer          Athina    Canoeing   \n",
       "3          Greece  2004 Summer  2004  Summer          Athina     Fencing   \n",
       "4          Greece  2004 Summer  2004  Summer          Athina    Football   \n",
       "...           ...          ...   ...     ...             ...         ...   \n",
       "67323     Germany  2016 Summer  2016  Summer  Rio de Janeiro   Badminton   \n",
       "67324  Kazakhstan  2016 Summer  2016  Summer  Rio de Janeiro   Athletics   \n",
       "67325  Kazakhstan  2016 Summer  2016  Summer  Rio de Janeiro   Athletics   \n",
       "67326  Kazakhstan  2016 Summer  2016  Summer  Rio de Janeiro   Athletics   \n",
       "67327     Belarus  2016 Summer  2016  Summer  Rio de Janeiro  Basketball   \n",
       "\n",
       "                                                Event     Medal        BMI  \n",
       "0      Wrestling Men's Light-Heavyweight, Greco-Roman  No medal  25.451114  \n",
       "1                     Athletics Women's Javelin Throw  No medal  23.030045  \n",
       "2            Canoeing Men's Kayak Fours, 1,000 metres  No medal  25.617284  \n",
       "3                      Fencing Men's epee, Individual  No medal  22.093170  \n",
       "4                             Football Men's Football  No medal  21.329640  \n",
       "...                                               ...       ...        ...  \n",
       "67323                         Badminton Men's Singles  No medal  22.893074  \n",
       "67324                    Athletics Women's 100 metres  No medal  20.478267  \n",
       "67325                    Athletics Women's 200 metres  No medal  20.478267  \n",
       "67326          Athletics Women's 4 x 100 metres Relay  No medal  20.478267  \n",
       "67327                   Basketball Women's Basketball  No medal  23.597004  \n",
       "\n",
       "[66186 rows x 15 columns]"
      ]
     },
     "execution_count": 12,
     "metadata": {},
     "output_type": "execute_result"
    }
   ],
   "source": [
    "data['Medal'] = data['Medal'].fillna('No medal')\n",
    "data"
   ]
  },
  {
   "cell_type": "code",
   "execution_count": 74,
   "id": "2af93eb1",
   "metadata": {},
   "outputs": [
    {
     "data": {
      "text/html": [
       "<div>\n",
       "<style scoped>\n",
       "    .dataframe tbody tr th:only-of-type {\n",
       "        vertical-align: middle;\n",
       "    }\n",
       "\n",
       "    .dataframe tbody tr th {\n",
       "        vertical-align: top;\n",
       "    }\n",
       "\n",
       "    .dataframe thead th {\n",
       "        text-align: right;\n",
       "    }\n",
       "</style>\n",
       "<table border=\"1\" class=\"dataframe\">\n",
       "  <thead>\n",
       "    <tr style=\"text-align: right;\">\n",
       "      <th></th>\n",
       "      <th>ID</th>\n",
       "      <th>Age</th>\n",
       "      <th>Height</th>\n",
       "      <th>Weight</th>\n",
       "      <th>Year</th>\n",
       "      <th>BMI</th>\n",
       "    </tr>\n",
       "  </thead>\n",
       "  <tbody>\n",
       "    <tr>\n",
       "      <th>count</th>\n",
       "      <td>66186.000000</td>\n",
       "      <td>66184.000000</td>\n",
       "      <td>66186.000000</td>\n",
       "      <td>66186.000000</td>\n",
       "      <td>66186.000000</td>\n",
       "      <td>66186.000000</td>\n",
       "    </tr>\n",
       "    <tr>\n",
       "      <th>mean</th>\n",
       "      <td>68968.174584</td>\n",
       "      <td>25.953931</td>\n",
       "      <td>175.881319</td>\n",
       "      <td>71.130843</td>\n",
       "      <td>2009.996011</td>\n",
       "      <td>22.773803</td>\n",
       "    </tr>\n",
       "    <tr>\n",
       "      <th>std</th>\n",
       "      <td>39184.940984</td>\n",
       "      <td>5.488737</td>\n",
       "      <td>11.010921</td>\n",
       "      <td>15.328603</td>\n",
       "      <td>4.283930</td>\n",
       "      <td>3.118445</td>\n",
       "    </tr>\n",
       "    <tr>\n",
       "      <th>min</th>\n",
       "      <td>2.000000</td>\n",
       "      <td>12.000000</td>\n",
       "      <td>133.000000</td>\n",
       "      <td>28.000000</td>\n",
       "      <td>2004.000000</td>\n",
       "      <td>10.503834</td>\n",
       "    </tr>\n",
       "    <tr>\n",
       "      <th>25%</th>\n",
       "      <td>35329.250000</td>\n",
       "      <td>22.000000</td>\n",
       "      <td>168.000000</td>\n",
       "      <td>60.000000</td>\n",
       "      <td>2006.000000</td>\n",
       "      <td>20.761246</td>\n",
       "    </tr>\n",
       "    <tr>\n",
       "      <th>50%</th>\n",
       "      <td>69074.500000</td>\n",
       "      <td>25.000000</td>\n",
       "      <td>176.000000</td>\n",
       "      <td>70.000000</td>\n",
       "      <td>2010.000000</td>\n",
       "      <td>22.405877</td>\n",
       "    </tr>\n",
       "    <tr>\n",
       "      <th>75%</th>\n",
       "      <td>102737.000000</td>\n",
       "      <td>29.000000</td>\n",
       "      <td>183.000000</td>\n",
       "      <td>80.000000</td>\n",
       "      <td>2014.000000</td>\n",
       "      <td>24.251278</td>\n",
       "    </tr>\n",
       "    <tr>\n",
       "      <th>max</th>\n",
       "      <td>135570.000000</td>\n",
       "      <td>71.000000</td>\n",
       "      <td>226.000000</td>\n",
       "      <td>214.000000</td>\n",
       "      <td>2016.000000</td>\n",
       "      <td>63.901580</td>\n",
       "    </tr>\n",
       "  </tbody>\n",
       "</table>\n",
       "</div>"
      ],
      "text/plain": [
       "                  ID           Age        Height        Weight          Year  \\\n",
       "count   66186.000000  66184.000000  66186.000000  66186.000000  66186.000000   \n",
       "mean    68968.174584     25.953931    175.881319     71.130843   2009.996011   \n",
       "std     39184.940984      5.488737     11.010921     15.328603      4.283930   \n",
       "min         2.000000     12.000000    133.000000     28.000000   2004.000000   \n",
       "25%     35329.250000     22.000000    168.000000     60.000000   2006.000000   \n",
       "50%     69074.500000     25.000000    176.000000     70.000000   2010.000000   \n",
       "75%    102737.000000     29.000000    183.000000     80.000000   2014.000000   \n",
       "max    135570.000000     71.000000    226.000000    214.000000   2016.000000   \n",
       "\n",
       "                BMI  \n",
       "count  66186.000000  \n",
       "mean      22.773803  \n",
       "std        3.118445  \n",
       "min       10.503834  \n",
       "25%       20.761246  \n",
       "50%       22.405877  \n",
       "75%       24.251278  \n",
       "max       63.901580  "
      ]
     },
     "execution_count": 74,
     "metadata": {},
     "output_type": "execute_result"
    }
   ],
   "source": [
    "data.describe()"
   ]
  },
  {
   "cell_type": "code",
   "execution_count": 75,
   "id": "3b7bc002",
   "metadata": {},
   "outputs": [
    {
     "data": {
      "text/plain": [
       "<seaborn.axisgrid.FacetGrid at 0x7ff6d3e470d0>"
      ]
     },
     "execution_count": 75,
     "metadata": {},
     "output_type": "execute_result"
    },
    {
     "data": {
      "image/png": "[encoded data removed]",
      "text/plain": [
       "<Figure size 360x360 with 1 Axes>"
      ]
     },
     "metadata": {
      "needs_background": "light"
     },
     "output_type": "display_data"
    }
   ],
   "source": [
    "sns.catplot(x = 'Medal', kind = 'count', palette = 'ch:.25',data = data)"
   ]
  },
  {
   "cell_type": "code",
   "execution_count": 76,
   "id": "9b51ba1e",
   "metadata": {},
   "outputs": [
    {
     "data": {
      "text/plain": [
       "<AxesSubplot:title={'center':'Age'}, xlabel='Medal'>"
      ]
     },
     "execution_count": 76,
     "metadata": {},
     "output_type": "execute_result"
    },
    {
     "data": {
      "image/png": "[encoded data removed]",
      "text/plain": [
       "<Figure size 432x288 with 1 Axes>"
      ]
     },
     "metadata": {
      "needs_background": "light"
     },
     "output_type": "display_data"
    }
   ],
   "source": [
    "data.boxplot(column = ['Age'], by = 'Medal')"
   ]
  },
  {
   "cell_type": "code",
   "execution_count": 77,
   "id": "c7d0e047",
   "metadata": {},
   "outputs": [],
   "source": [
    "dummy_var = pd.get_dummies(data['Medal'])"
   ]
  },
  {
   "cell_type": "code",
   "execution_count": 78,
   "id": "015258fd",
   "metadata": {},
   "outputs": [
    {
     "data": {
      "text/html": [
       "<div>\n",
       "<style scoped>\n",
       "    .dataframe tbody tr th:only-of-type {\n",
       "        vertical-align: middle;\n",
       "    }\n",
       "\n",
       "    .dataframe tbody tr th {\n",
       "        vertical-align: top;\n",
       "    }\n",
       "\n",
       "    .dataframe thead th {\n",
       "        text-align: right;\n",
       "    }\n",
       "</style>\n",
       "<table border=\"1\" class=\"dataframe\">\n",
       "  <thead>\n",
       "    <tr style=\"text-align: right;\">\n",
       "      <th></th>\n",
       "      <th>BMI</th>\n",
       "      <th>Age</th>\n",
       "      <th>Height</th>\n",
       "      <th>Weight</th>\n",
       "      <th>Bronze</th>\n",
       "      <th>Gold</th>\n",
       "      <th>No medal</th>\n",
       "      <th>Silver</th>\n",
       "    </tr>\n",
       "  </thead>\n",
       "  <tbody>\n",
       "    <tr>\n",
       "      <th>0</th>\n",
       "      <td>25.451114</td>\n",
       "      <td>26.0</td>\n",
       "      <td>187.0</td>\n",
       "      <td>89.0</td>\n",
       "      <td>0</td>\n",
       "      <td>0</td>\n",
       "      <td>1</td>\n",
       "      <td>0</td>\n",
       "    </tr>\n",
       "    <tr>\n",
       "      <th>1</th>\n",
       "      <td>23.030045</td>\n",
       "      <td>24.0</td>\n",
       "      <td>168.0</td>\n",
       "      <td>65.0</td>\n",
       "      <td>0</td>\n",
       "      <td>0</td>\n",
       "      <td>1</td>\n",
       "      <td>0</td>\n",
       "    </tr>\n",
       "    <tr>\n",
       "      <th>2</th>\n",
       "      <td>25.617284</td>\n",
       "      <td>24.0</td>\n",
       "      <td>180.0</td>\n",
       "      <td>83.0</td>\n",
       "      <td>0</td>\n",
       "      <td>0</td>\n",
       "      <td>1</td>\n",
       "      <td>0</td>\n",
       "    </tr>\n",
       "    <tr>\n",
       "      <th>3</th>\n",
       "      <td>22.093170</td>\n",
       "      <td>22.0</td>\n",
       "      <td>178.0</td>\n",
       "      <td>70.0</td>\n",
       "      <td>0</td>\n",
       "      <td>0</td>\n",
       "      <td>1</td>\n",
       "      <td>0</td>\n",
       "    </tr>\n",
       "    <tr>\n",
       "      <th>4</th>\n",
       "      <td>21.329640</td>\n",
       "      <td>22.0</td>\n",
       "      <td>190.0</td>\n",
       "      <td>77.0</td>\n",
       "      <td>0</td>\n",
       "      <td>0</td>\n",
       "      <td>1</td>\n",
       "      <td>0</td>\n",
       "    </tr>\n",
       "    <tr>\n",
       "      <th>...</th>\n",
       "      <td>...</td>\n",
       "      <td>...</td>\n",
       "      <td>...</td>\n",
       "      <td>...</td>\n",
       "      <td>...</td>\n",
       "      <td>...</td>\n",
       "      <td>...</td>\n",
       "      <td>...</td>\n",
       "    </tr>\n",
       "    <tr>\n",
       "      <th>67323</th>\n",
       "      <td>22.893074</td>\n",
       "      <td>32.0</td>\n",
       "      <td>181.0</td>\n",
       "      <td>75.0</td>\n",
       "      <td>0</td>\n",
       "      <td>0</td>\n",
       "      <td>1</td>\n",
       "      <td>0</td>\n",
       "    </tr>\n",
       "    <tr>\n",
       "      <th>67324</th>\n",
       "      <td>20.478267</td>\n",
       "      <td>23.0</td>\n",
       "      <td>174.0</td>\n",
       "      <td>62.0</td>\n",
       "      <td>0</td>\n",
       "      <td>0</td>\n",
       "      <td>1</td>\n",
       "      <td>0</td>\n",
       "    </tr>\n",
       "    <tr>\n",
       "      <th>67325</th>\n",
       "      <td>20.478267</td>\n",
       "      <td>23.0</td>\n",
       "      <td>174.0</td>\n",
       "      <td>62.0</td>\n",
       "      <td>0</td>\n",
       "      <td>0</td>\n",
       "      <td>1</td>\n",
       "      <td>0</td>\n",
       "    </tr>\n",
       "    <tr>\n",
       "      <th>67326</th>\n",
       "      <td>20.478267</td>\n",
       "      <td>23.0</td>\n",
       "      <td>174.0</td>\n",
       "      <td>62.0</td>\n",
       "      <td>0</td>\n",
       "      <td>0</td>\n",
       "      <td>1</td>\n",
       "      <td>0</td>\n",
       "    </tr>\n",
       "    <tr>\n",
       "      <th>67327</th>\n",
       "      <td>23.597004</td>\n",
       "      <td>33.0</td>\n",
       "      <td>171.0</td>\n",
       "      <td>69.0</td>\n",
       "      <td>0</td>\n",
       "      <td>0</td>\n",
       "      <td>1</td>\n",
       "      <td>0</td>\n",
       "    </tr>\n",
       "  </tbody>\n",
       "</table>\n",
       "<p>66184 rows × 8 columns</p>\n",
       "</div>"
      ],
      "text/plain": [
       "             BMI   Age  Height  Weight  Bronze  Gold  No medal  Silver\n",
       "0      25.451114  26.0   187.0    89.0       0     0         1       0\n",
       "1      23.030045  24.0   168.0    65.0       0     0         1       0\n",
       "2      25.617284  24.0   180.0    83.0       0     0         1       0\n",
       "3      22.093170  22.0   178.0    70.0       0     0         1       0\n",
       "4      21.329640  22.0   190.0    77.0       0     0         1       0\n",
       "...          ...   ...     ...     ...     ...   ...       ...     ...\n",
       "67323  22.893074  32.0   181.0    75.0       0     0         1       0\n",
       "67324  20.478267  23.0   174.0    62.0       0     0         1       0\n",
       "67325  20.478267  23.0   174.0    62.0       0     0         1       0\n",
       "67326  20.478267  23.0   174.0    62.0       0     0         1       0\n",
       "67327  23.597004  33.0   171.0    69.0       0     0         1       0\n",
       "\n",
       "[66184 rows x 8 columns]"
      ]
     },
     "execution_count": 78,
     "metadata": {},
     "output_type": "execute_result"
    }
   ],
   "source": [
    "df = pd.DataFrame(data[['BMI','Age','Height','Weight']])\n",
    "df\n",
    "d = pd.concat([df,dummy_var], axis =1 )\n",
    "d\n",
    "d = d.dropna()\n",
    "d"
   ]
  },
  {
   "cell_type": "code",
   "execution_count": 79,
   "id": "dcaa5f6f",
   "metadata": {},
   "outputs": [],
   "source": [
    "corr = d.corr()"
   ]
  },
  {
   "cell_type": "code",
   "execution_count": 80,
   "id": "46568ccd",
   "metadata": {},
   "outputs": [
    {
     "name": "stdout",
     "output_type": "stream",
     "text": [
      "               BMI       Age    Height    Weight    Bronze      Gold  \\\n",
      "BMI       1.000000  0.165071  0.335682  0.835409  0.024418  0.025212   \n",
      "Age       0.165071  1.000000  0.127092  0.173753  0.012995  0.012969   \n",
      "Height    0.335682  0.127092  1.000000  0.790747  0.035298  0.047866   \n",
      "Weight    0.835409  0.173753  0.790747  1.000000  0.036678  0.045463   \n",
      "Bronze    0.024418  0.012995  0.035298  0.036678  1.000000 -0.051104   \n",
      "Gold      0.025212  0.012969  0.047866  0.045463 -0.051104  1.000000   \n",
      "No medal -0.042791 -0.025669 -0.074357 -0.071976 -0.555762 -0.543643   \n",
      "Silver    0.020609  0.016212  0.039039  0.036095 -0.050993 -0.049881   \n",
      "\n",
      "          No medal    Silver  \n",
      "BMI      -0.042791  0.020609  \n",
      "Age      -0.025669  0.016212  \n",
      "Height   -0.074357  0.039039  \n",
      "Weight   -0.071976  0.036095  \n",
      "Bronze   -0.555762 -0.050993  \n",
      "Gold     -0.543643 -0.049881  \n",
      "No medal  1.000000 -0.542464  \n",
      "Silver   -0.542464  1.000000  \n"
     ]
    }
   ],
   "source": [
    "print(corr)"
   ]
  },
  {
   "cell_type": "code",
   "execution_count": 81,
   "id": "8802f2a3",
   "metadata": {
    "scrolled": true
   },
   "outputs": [
    {
     "data": {
      "text/plain": [
       "<AxesSubplot:>"
      ]
     },
     "execution_count": 81,
     "metadata": {},
     "output_type": "execute_result"
    },
    {
     "data": {
      "image/png": "[encoded data removed]",
      "text/plain": [
       "<Figure size 432x288 with 2 Axes>"
      ]
     },
     "metadata": {
      "needs_background": "light"
     },
     "output_type": "display_data"
    }
   ],
   "source": [
    "sns.heatmap(corr, cmap = 'YlGnBu',linewidths = 0.1)"
   ]
  },
  {
   "cell_type": "code",
   "execution_count": 24,
   "id": "874adc60",
   "metadata": {
    "scrolled": true
   },
   "outputs": [
    {
     "name": "stderr",
     "output_type": "stream",
     "text": [
      "<ipython-input-24-ee11d2f04566>:1: SettingWithCopyWarning: \n",
      "A value is trying to be set on a copy of a slice from a DataFrame.\n",
      "Try using .loc[row_indexer,col_indexer] = value instead\n",
      "\n",
      "See the caveats in the documentation: https://pandas.pydata.org/pandas-docs/stable/user_guide/indexing.html#returning-a-view-versus-a-copy\n",
      "  data['Classify'] = ['Underweight' if(i < 20) else 'Normal' if(20 < i <= 25) else 'Overweight' for i in data.BMI]\n"
     ]
    }
   ],
   "source": [
    "data['Classify'] = ['Underweight' if(i < 20) else 'Normal' if(20 < i <= 25) else 'Overweight' for i in data.BMI]"
   ]
  },
  {
   "cell_type": "code",
   "execution_count": 62,
   "id": "c44ef3ce",
   "metadata": {
    "scrolled": false
   },
   "outputs": [
    {
     "name": "stdout",
     "output_type": "stream",
     "text": [
      "        Age\n",
      "0      26.0\n",
      "1      24.0\n",
      "2      24.0\n",
      "3      22.0\n",
      "4      22.0\n",
      "...     ...\n",
      "67323  32.0\n",
      "67324  23.0\n",
      "67325  23.0\n",
      "67326  23.0\n",
      "67327  33.0\n",
      "\n",
      "[66186 rows x 1 columns] 0        Overweight\n",
      "1            Normal\n",
      "2        Overweight\n",
      "3            Normal\n",
      "4            Normal\n",
      "            ...    \n",
      "67323        Normal\n",
      "67324        Normal\n",
      "67325        Normal\n",
      "67326        Normal\n",
      "67327        Normal\n",
      "Name: Classify, Length: 66186, dtype: object\n"
     ]
    }
   ],
   "source": [
    "features = ['Age']\n",
    "\n",
    "x = data[features]\n",
    "y = data['Classify']\n",
    "\n",
    "print(x,y)"
   ]
  },
  {
   "cell_type": "code",
   "execution_count": 27,
   "id": "802c2aa2",
   "metadata": {
    "scrolled": true
   },
   "outputs": [
    {
     "data": {
      "text/html": [
       "<div>\n",
       "<style scoped>\n",
       "    .dataframe tbody tr th:only-of-type {\n",
       "        vertical-align: middle;\n",
       "    }\n",
       "\n",
       "    .dataframe tbody tr th {\n",
       "        vertical-align: top;\n",
       "    }\n",
       "\n",
       "    .dataframe thead th {\n",
       "        text-align: right;\n",
       "    }\n",
       "</style>\n",
       "<table border=\"1\" class=\"dataframe\">\n",
       "  <thead>\n",
       "    <tr style=\"text-align: right;\">\n",
       "      <th></th>\n",
       "      <th>ID</th>\n",
       "      <th>Name</th>\n",
       "      <th>Sex</th>\n",
       "      <th>Age</th>\n",
       "      <th>Height</th>\n",
       "      <th>Weight</th>\n",
       "      <th>Team</th>\n",
       "      <th>Games</th>\n",
       "      <th>Year</th>\n",
       "      <th>Season</th>\n",
       "      <th>City</th>\n",
       "      <th>Sport</th>\n",
       "      <th>Event</th>\n",
       "      <th>Medal</th>\n",
       "      <th>BMI</th>\n",
       "      <th>Classify</th>\n",
       "    </tr>\n",
       "  </thead>\n",
       "  <tbody>\n",
       "    <tr>\n",
       "      <th>0</th>\n",
       "      <td>23</td>\n",
       "      <td>Fritz Aanes</td>\n",
       "      <td>M</td>\n",
       "      <td>26.0</td>\n",
       "      <td>187.0</td>\n",
       "      <td>89.0</td>\n",
       "      <td>Norway</td>\n",
       "      <td>2004 Summer</td>\n",
       "      <td>2004</td>\n",
       "      <td>Summer</td>\n",
       "      <td>Athina</td>\n",
       "      <td>Wrestling</td>\n",
       "      <td>Wrestling Men's Light-Heavyweight, Greco-Roman</td>\n",
       "      <td>No medal</td>\n",
       "      <td>25.451114</td>\n",
       "      <td>Overweight</td>\n",
       "    </tr>\n",
       "    <tr>\n",
       "      <th>1</th>\n",
       "      <td>49</td>\n",
       "      <td>Moonika Aava</td>\n",
       "      <td>F</td>\n",
       "      <td>24.0</td>\n",
       "      <td>168.0</td>\n",
       "      <td>65.0</td>\n",
       "      <td>Estonia</td>\n",
       "      <td>2004 Summer</td>\n",
       "      <td>2004</td>\n",
       "      <td>Summer</td>\n",
       "      <td>Athina</td>\n",
       "      <td>Athletics</td>\n",
       "      <td>Athletics Women's Javelin Throw</td>\n",
       "      <td>No medal</td>\n",
       "      <td>23.030045</td>\n",
       "      <td>Normal</td>\n",
       "    </tr>\n",
       "    <tr>\n",
       "      <th>2</th>\n",
       "      <td>72</td>\n",
       "      <td>Aleksey Aleksandrovich Abalmasov</td>\n",
       "      <td>M</td>\n",
       "      <td>24.0</td>\n",
       "      <td>180.0</td>\n",
       "      <td>83.0</td>\n",
       "      <td>Belarus</td>\n",
       "      <td>2004 Summer</td>\n",
       "      <td>2004</td>\n",
       "      <td>Summer</td>\n",
       "      <td>Athina</td>\n",
       "      <td>Canoeing</td>\n",
       "      <td>Canoeing Men's Kayak Fours, 1,000 metres</td>\n",
       "      <td>No medal</td>\n",
       "      <td>25.617284</td>\n",
       "      <td>Overweight</td>\n",
       "    </tr>\n",
       "    <tr>\n",
       "      <th>3</th>\n",
       "      <td>75</td>\n",
       "      <td>Giorgos Abalof</td>\n",
       "      <td>M</td>\n",
       "      <td>22.0</td>\n",
       "      <td>178.0</td>\n",
       "      <td>70.0</td>\n",
       "      <td>Greece</td>\n",
       "      <td>2004 Summer</td>\n",
       "      <td>2004</td>\n",
       "      <td>Summer</td>\n",
       "      <td>Athina</td>\n",
       "      <td>Fencing</td>\n",
       "      <td>Fencing Men's epee, Individual</td>\n",
       "      <td>No medal</td>\n",
       "      <td>22.093170</td>\n",
       "      <td>Normal</td>\n",
       "    </tr>\n",
       "    <tr>\n",
       "      <th>4</th>\n",
       "      <td>81</td>\n",
       "      <td>Georgios Abaris</td>\n",
       "      <td>M</td>\n",
       "      <td>22.0</td>\n",
       "      <td>190.0</td>\n",
       "      <td>77.0</td>\n",
       "      <td>Greece</td>\n",
       "      <td>2004 Summer</td>\n",
       "      <td>2004</td>\n",
       "      <td>Summer</td>\n",
       "      <td>Athina</td>\n",
       "      <td>Football</td>\n",
       "      <td>Football Men's Football</td>\n",
       "      <td>No medal</td>\n",
       "      <td>21.329640</td>\n",
       "      <td>Normal</td>\n",
       "    </tr>\n",
       "  </tbody>\n",
       "</table>\n",
       "</div>"
      ],
      "text/plain": [
       "   ID                              Name Sex   Age  Height  Weight     Team  \\\n",
       "0  23                       Fritz Aanes   M  26.0   187.0    89.0   Norway   \n",
       "1  49                      Moonika Aava   F  24.0   168.0    65.0  Estonia   \n",
       "2  72  Aleksey Aleksandrovich Abalmasov   M  24.0   180.0    83.0  Belarus   \n",
       "3  75                    Giorgos Abalof   M  22.0   178.0    70.0   Greece   \n",
       "4  81                   Georgios Abaris   M  22.0   190.0    77.0   Greece   \n",
       "\n",
       "         Games  Year  Season    City      Sport  \\\n",
       "0  2004 Summer  2004  Summer  Athina  Wrestling   \n",
       "1  2004 Summer  2004  Summer  Athina  Athletics   \n",
       "2  2004 Summer  2004  Summer  Athina   Canoeing   \n",
       "3  2004 Summer  2004  Summer  Athina    Fencing   \n",
       "4  2004 Summer  2004  Summer  Athina   Football   \n",
       "\n",
       "                                            Event     Medal        BMI  \\\n",
       "0  Wrestling Men's Light-Heavyweight, Greco-Roman  No medal  25.451114   \n",
       "1                 Athletics Women's Javelin Throw  No medal  23.030045   \n",
       "2        Canoeing Men's Kayak Fours, 1,000 metres  No medal  25.617284   \n",
       "3                  Fencing Men's epee, Individual  No medal  22.093170   \n",
       "4                         Football Men's Football  No medal  21.329640   \n",
       "\n",
       "     Classify  \n",
       "0  Overweight  \n",
       "1      Normal  \n",
       "2  Overweight  \n",
       "3      Normal  \n",
       "4      Normal  "
      ]
     },
     "execution_count": 27,
     "metadata": {},
     "output_type": "execute_result"
    }
   ],
   "source": [
    "data.head()"
   ]
  },
  {
   "cell_type": "markdown",
   "id": "47daec83",
   "metadata": {},
   "source": [
    "# Random Forest"
   ]
  },
  {
   "cell_type": "code",
   "execution_count": 63,
   "id": "977a44ed",
   "metadata": {},
   "outputs": [],
   "source": [
    "X_Train, X_Test, y_Train, y_Test = train_test_split(x, y, test_size=0.25, random_state=2022)"
   ]
  },
  {
   "cell_type": "code",
   "execution_count": 64,
   "id": "c83dc8a1",
   "metadata": {},
   "outputs": [
    {
     "name": "stderr",
     "output_type": "stream",
     "text": [
      "/opt/anaconda3/lib/python3.8/site-packages/sklearn/ensemble/_forest.py:427: FutureWarning: `max_features='auto'` has been deprecated in 1.1 and will be removed in 1.3. To keep the past behaviour, explicitly set `max_features='sqrt'` or remove this parameter as it is also the default value for RandomForestClassifiers and ExtraTreesClassifiers.\n",
      "  warn(\n"
     ]
    },
    {
     "data": {
      "text/html": [
       "<style>#sk-container-id-1 {color: black;background-color: white;}#sk-container-id-1 pre{padding: 0;}#sk-container-id-1 div.sk-toggleable {background-color: white;}#sk-container-id-1 label.sk-toggleable__label {cursor: pointer;display: block;width: 100%;margin-bottom: 0;padding: 0.3em;box-sizing: border-box;text-align: center;}#sk-container-id-1 label.sk-toggleable__label-arrow:before {content: \"▸\";float: left;margin-right: 0.25em;color: #696969;}#sk-container-id-1 label.sk-toggleable__label-arrow:hover:before {color: black;}#sk-container-id-1 div.sk-estimator:hover label.sk-toggleable__label-arrow:before {color: black;}#sk-container-id-1 div.sk-toggleable__content {max-height: 0;max-width: 0;overflow: hidden;text-align: left;background-color: #f0f8ff;}#sk-container-id-1 div.sk-toggleable__content pre {margin: 0.2em;color: black;border-radius: 0.25em;background-color: #f0f8ff;}#sk-container-id-1 input.sk-toggleable__control:checked~div.sk-toggleable__content {max-height: 200px;max-width: 100%;overflow: auto;}#sk-container-id-1 input.sk-toggleable__control:checked~label.sk-toggleable__label-arrow:before {content: \"▾\";}#sk-container-id-1 div.sk-estimator input.sk-toggleable__control:checked~label.sk-toggleable__label {background-color: #d4ebff;}#sk-container-id-1 div.sk-label input.sk-toggleable__control:checked~label.sk-toggleable__label {background-color: #d4ebff;}#sk-container-id-1 input.sk-hidden--visually {border: 0;clip: rect(1px 1px 1px 1px);clip: rect(1px, 1px, 1px, 1px);height: 1px;margin: -1px;overflow: hidden;padding: 0;position: absolute;width: 1px;}#sk-container-id-1 div.sk-estimator {font-family: monospace;background-color: #f0f8ff;border: 1px dotted black;border-radius: 0.25em;box-sizing: border-box;margin-bottom: 0.5em;}#sk-container-id-1 div.sk-estimator:hover {background-color: #d4ebff;}#sk-container-id-1 div.sk-parallel-item::after {content: \"\";width: 100%;border-bottom: 1px solid gray;flex-grow: 1;}#sk-container-id-1 div.sk-label:hover label.sk-toggleable__label {background-color: #d4ebff;}#sk-container-id-1 div.sk-serial::before {content: \"\";position: absolute;border-left: 1px solid gray;box-sizing: border-box;top: 0;bottom: 0;left: 50%;z-index: 0;}#sk-container-id-1 div.sk-serial {display: flex;flex-direction: column;align-items: center;background-color: white;padding-right: 0.2em;padding-left: 0.2em;position: relative;}#sk-container-id-1 div.sk-item {position: relative;z-index: 1;}#sk-container-id-1 div.sk-parallel {display: flex;align-items: stretch;justify-content: center;background-color: white;position: relative;}#sk-container-id-1 div.sk-item::before, #sk-container-id-1 div.sk-parallel-item::before {content: \"\";position: absolute;border-left: 1px solid gray;box-sizing: border-box;top: 0;bottom: 0;left: 50%;z-index: -1;}#sk-container-id-1 div.sk-parallel-item {display: flex;flex-direction: column;z-index: 1;position: relative;background-color: white;}#sk-container-id-1 div.sk-parallel-item:first-child::after {align-self: flex-end;width: 50%;}#sk-container-id-1 div.sk-parallel-item:last-child::after {align-self: flex-start;width: 50%;}#sk-container-id-1 div.sk-parallel-item:only-child::after {width: 0;}#sk-container-id-1 div.sk-dashed-wrapped {border: 1px dashed gray;margin: 0 0.4em 0.5em 0.4em;box-sizing: border-box;padding-bottom: 0.4em;background-color: white;}#sk-container-id-1 div.sk-label label {font-family: monospace;font-weight: bold;display: inline-block;line-height: 1.2em;}#sk-container-id-1 div.sk-label-container {text-align: center;}#sk-container-id-1 div.sk-container {/* jupyter's `normalize.less` sets `[hidden] { display: none; }` but bootstrap.min.css set `[hidden] { display: none !important; }` so we also need the `!important` here to be able to override the default hidden behavior on the sphinx rendered scikit-learn.org. See: https://github.com/scikit-learn/scikit-learn/issues/21755 */display: inline-block !important;position: relative;}#sk-container-id-1 div.sk-text-repr-fallback {display: none;}</style><div id=\"sk-container-id-1\" class=\"sk-top-container\"><div class=\"sk-text-repr-fallback\"><pre>RandomForestClassifier(criterion=&#x27;entropy&#x27;, max_depth=4, max_features=&#x27;auto&#x27;,\n",
       "                       min_samples_leaf=4, n_estimators=30, n_jobs=-1,\n",
       "                       random_state=30)</pre><b>In a Jupyter environment, please rerun this cell to show the HTML representation or trust the notebook. <br />On GitHub, the HTML representation is unable to render, please try loading this page with nbviewer.org.</b></div><div class=\"sk-container\" hidden><div class=\"sk-item\"><div class=\"sk-estimator sk-toggleable\"><input class=\"sk-toggleable__control sk-hidden--visually\" id=\"sk-estimator-id-1\" type=\"checkbox\" checked><label for=\"sk-estimator-id-1\" class=\"sk-toggleable__label sk-toggleable__label-arrow\">RandomForestClassifier</label><div class=\"sk-toggleable__content\"><pre>RandomForestClassifier(criterion=&#x27;entropy&#x27;, max_depth=4, max_features=&#x27;auto&#x27;,\n",
       "                       min_samples_leaf=4, n_estimators=30, n_jobs=-1,\n",
       "                       random_state=30)</pre></div></div></div></div></div>"
      ],
      "text/plain": [
       "RandomForestClassifier(criterion='entropy', max_depth=4, max_features='auto',\n",
       "                       min_samples_leaf=4, n_estimators=30, n_jobs=-1,\n",
       "                       random_state=30)"
      ]
     },
     "execution_count": 64,
     "metadata": {},
     "output_type": "execute_result"
    }
   ],
   "source": [
    "RandomForestModel = RandomForestClassifier(n_estimators = 30, \n",
    "                               max_depth=4,\n",
    "                               max_features='auto', \n",
    "                               min_samples_leaf=4,\n",
    "                               bootstrap=True, \n",
    "                               n_jobs=-1, \n",
    "                               criterion = 'entropy', \n",
    "                               random_state = 30)\n",
    "RandomForestModel.fit(X_Train,y_Train)"
   ]
  },
  {
   "cell_type": "code",
   "execution_count": 65,
   "id": "de8a982e",
   "metadata": {},
   "outputs": [
    {
     "name": "stdout",
     "output_type": "stream",
     "text": [
      "[[10917     0   104]\n",
      " [ 2960     0     3]\n",
      " [ 2429     0   134]]\n"
     ]
    }
   ],
   "source": [
    "from sklearn import metrics\n",
    "\n",
    "yPred = RandomForestModel.predict(X_Test)\n",
    "\n",
    "RandomF_cnf = metrics.confusion_matrix(y_Test, yPred)\n",
    "print(RandomF_cnf)"
   ]
  },
  {
   "cell_type": "code",
   "execution_count": 119,
   "id": "b90b25d9",
   "metadata": {},
   "outputs": [
    {
     "name": "stdout",
     "output_type": "stream",
     "text": [
      "Confusion Matrix: \n",
      "[[10917     0   104]\n",
      " [ 2960     0     3]\n",
      " [ 2429     0   134]]\n",
      "Accuracy:- 66.79%\n",
      "Precision:- 66.79%\n",
      "Recall:- 66.79%\n",
      "Classification report - \n",
      "               precision    recall  f1-score   support\n",
      "\n",
      "      Normal       0.67      0.99      0.80     11021\n",
      "  Overweight       0.00      0.00      0.00      2963\n",
      " Underweight       0.56      0.05      0.10      2563\n",
      "\n",
      "    accuracy                           0.67     16547\n",
      "   macro avg       0.41      0.35      0.30     16547\n",
      "weighted avg       0.53      0.67      0.55     16547\n",
      "\n"
     ]
    },
    {
     "name": "stderr",
     "output_type": "stream",
     "text": [
      "/opt/anaconda3/lib/python3.8/site-packages/sklearn/metrics/_classification.py:1327: UndefinedMetricWarning: Precision and F-score are ill-defined and being set to 0.0 in labels with no predicted samples. Use `zero_division` parameter to control this behavior.\n",
      "  _warn_prf(average, modifier, msg_start, len(result))\n",
      "/opt/anaconda3/lib/python3.8/site-packages/sklearn/metrics/_classification.py:1327: UndefinedMetricWarning: Precision and F-score are ill-defined and being set to 0.0 in labels with no predicted samples. Use `zero_division` parameter to control this behavior.\n",
      "  _warn_prf(average, modifier, msg_start, len(result))\n",
      "/opt/anaconda3/lib/python3.8/site-packages/sklearn/metrics/_classification.py:1327: UndefinedMetricWarning: Precision and F-score are ill-defined and being set to 0.0 in labels with no predicted samples. Use `zero_division` parameter to control this behavior.\n",
      "  _warn_prf(average, modifier, msg_start, len(result))\n"
     ]
    }
   ],
   "source": [
    "print('Confusion Matrix: \\n'+str(RandomF_cnf))\n",
    "\n",
    "print('Accuracy:- '+str(round(accuracy_score(y_Test, yPred)*100,2))+'%')\n",
    "print('Precision:- '+str(round(precision_score(y_Test, yPred,average='micro')*100,2))+'%')\n",
    "print('Recall:- '+str(round(recall_score(y_Test, yPred, average='micro')*100,2))+'%')\n",
    "\n",
    "\n",
    "print(\"Classification report - \\n\", classification_report(y_Test,yPred))"
   ]
  },
  {
   "cell_type": "code",
   "execution_count": 67,
   "id": "78d30142",
   "metadata": {},
   "outputs": [
    {
     "name": "stderr",
     "output_type": "stream",
     "text": [
      "/opt/anaconda3/lib/python3.8/site-packages/sklearn/metrics/_classification.py:1327: UndefinedMetricWarning: Precision and F-score are ill-defined and being set to 0.0 in labels with no predicted samples. Use `zero_division` parameter to control this behavior.\n",
      "  _warn_prf(average, modifier, msg_start, len(result))\n",
      "/opt/anaconda3/lib/python3.8/site-packages/sklearn/metrics/_classification.py:1327: UndefinedMetricWarning: Precision and F-score are ill-defined and being set to 0.0 in labels with no predicted samples. Use `zero_division` parameter to control this behavior.\n",
      "  _warn_prf(average, modifier, msg_start, len(result))\n"
     ]
    },
    {
     "name": "stdout",
     "output_type": "stream",
     "text": [
      "Classification report - \n",
      "               precision    recall  f1-score   support\n",
      "\n",
      "      Normal       0.67      0.99      0.80     11021\n",
      "  Overweight       0.00      0.00      0.00      2963\n",
      " Underweight       0.56      0.05      0.10      2563\n",
      "\n",
      "    accuracy                           0.67     16547\n",
      "   macro avg       0.41      0.35      0.30     16547\n",
      "weighted avg       0.53      0.67      0.55     16547\n",
      "\n"
     ]
    },
    {
     "name": "stderr",
     "output_type": "stream",
     "text": [
      "/opt/anaconda3/lib/python3.8/site-packages/sklearn/metrics/_classification.py:1327: UndefinedMetricWarning: Precision and F-score are ill-defined and being set to 0.0 in labels with no predicted samples. Use `zero_division` parameter to control this behavior.\n",
      "  _warn_prf(average, modifier, msg_start, len(result))\n"
     ]
    }
   ],
   "source": [
    "print(\"Classification report - \\n\", classification_report(y_Test,yPred))"
   ]
  },
  {
   "cell_type": "code",
   "execution_count": 42,
   "id": "692b1635",
   "metadata": {},
   "outputs": [
    {
     "data": {
      "text/plain": [
       "ID          0\n",
       "Name        0\n",
       "Sex         0\n",
       "Age         2\n",
       "Height      0\n",
       "Weight      0\n",
       "Team        0\n",
       "Games       0\n",
       "Year        0\n",
       "Season      0\n",
       "City        0\n",
       "Sport       0\n",
       "Event       0\n",
       "Medal       0\n",
       "BMI         0\n",
       "Classify    0\n",
       "dtype: int64"
      ]
     },
     "execution_count": 42,
     "metadata": {},
     "output_type": "execute_result"
    }
   ],
   "source": [
    "data.isna().sum()"
   ]
  },
  {
   "cell_type": "code",
   "execution_count": 43,
   "id": "4295be4f",
   "metadata": {},
   "outputs": [
    {
     "name": "stderr",
     "output_type": "stream",
     "text": [
      "<ipython-input-43-9502dce9a39d>:1: SettingWithCopyWarning: \n",
      "A value is trying to be set on a copy of a slice from a DataFrame.\n",
      "Try using .loc[row_indexer,col_indexer] = value instead\n",
      "\n",
      "See the caveats in the documentation: https://pandas.pydata.org/pandas-docs/stable/user_guide/indexing.html#returning-a-view-versus-a-copy\n",
      "  data['Age'] = data['Age'].fillna(data['Age'].median())\n"
     ]
    }
   ],
   "source": [
    "data['Age'] = data['Age'].fillna(data['Age'].median())"
   ]
  },
  {
   "cell_type": "code",
   "execution_count": 44,
   "id": "fff6c1a4",
   "metadata": {},
   "outputs": [
    {
     "data": {
      "text/plain": [
       "ID          0\n",
       "Name        0\n",
       "Sex         0\n",
       "Age         0\n",
       "Height      0\n",
       "Weight      0\n",
       "Team        0\n",
       "Games       0\n",
       "Year        0\n",
       "Season      0\n",
       "City        0\n",
       "Sport       0\n",
       "Event       0\n",
       "Medal       0\n",
       "BMI         0\n",
       "Classify    0\n",
       "dtype: int64"
      ]
     },
     "execution_count": 44,
     "metadata": {},
     "output_type": "execute_result"
    }
   ],
   "source": [
    "data.isna().sum()"
   ]
  },
  {
   "cell_type": "markdown",
   "id": "d4301690",
   "metadata": {},
   "source": [
    "# Logistic Regression"
   ]
  },
  {
   "cell_type": "code",
   "execution_count": 103,
   "id": "0972e064",
   "metadata": {},
   "outputs": [],
   "source": [
    "features = ['Age','Height','Weight']\n",
    "\n",
    "X = data[features] # Features\n",
    "y = data['Classify'] # Target variable"
   ]
  },
  {
   "cell_type": "code",
   "execution_count": 104,
   "id": "35d279e2",
   "metadata": {},
   "outputs": [],
   "source": [
    "X_Train, X_Test, y_Train, y_Test = train_test_split(X, y, test_size=0.25, random_state=2022)"
   ]
  },
  {
   "cell_type": "code",
   "execution_count": 105,
   "id": "0f0d9b85",
   "metadata": {},
   "outputs": [
    {
     "name": "stdout",
     "output_type": "stream",
     "text": [
      "<class 'pandas.core.frame.DataFrame'>\n",
      "Int64Index: 66186 entries, 0 to 67327\n",
      "Data columns (total 16 columns):\n",
      " #   Column    Non-Null Count  Dtype  \n",
      "---  ------    --------------  -----  \n",
      " 0   ID        66186 non-null  int64  \n",
      " 1   Name      66186 non-null  object \n",
      " 2   Sex       66186 non-null  object \n",
      " 3   Age       66186 non-null  float64\n",
      " 4   Height    66186 non-null  float64\n",
      " 5   Weight    66186 non-null  float64\n",
      " 6   Team      66186 non-null  object \n",
      " 7   Games     66186 non-null  object \n",
      " 8   Year      66186 non-null  int64  \n",
      " 9   Season    66186 non-null  object \n",
      " 10  City      66186 non-null  object \n",
      " 11  Sport     66186 non-null  object \n",
      " 12  Event     66186 non-null  object \n",
      " 13  Medal     66186 non-null  object \n",
      " 14  BMI       66186 non-null  float64\n",
      " 15  Classify  66186 non-null  object \n",
      "dtypes: float64(4), int64(2), object(10)\n",
      "memory usage: 10.6+ MB\n"
     ]
    }
   ],
   "source": [
    "data.info()"
   ]
  },
  {
   "cell_type": "code",
   "execution_count": 115,
   "id": "cd6f7381",
   "metadata": {},
   "outputs": [
    {
     "name": "stdout",
     "output_type": "stream",
     "text": [
      "LogisticRegression()\n"
     ]
    },
    {
     "name": "stderr",
     "output_type": "stream",
     "text": [
      "/opt/anaconda3/lib/python3.8/site-packages/sklearn/linear_model/_logistic.py:444: ConvergenceWarning: lbfgs failed to converge (status=1):\n",
      "STOP: TOTAL NO. of ITERATIONS REACHED LIMIT.\n",
      "\n",
      "Increase the number of iterations (max_iter) or scale the data as shown in:\n",
      "    https://scikit-learn.org/stable/modules/preprocessing.html\n",
      "Please also refer to the documentation for alternative solver options:\n",
      "    https://scikit-learn.org/stable/modules/linear_model.html#logistic-regression\n",
      "  n_iter_i = _check_optimize_result(\n"
     ]
    }
   ],
   "source": [
    "\n",
    "logisticReg = LogisticRegression()\n",
    "model = logisticReg.fit(X_Train, y_Train)\n",
    "\n",
    "\n",
    "print(logisticReg)"
   ]
  },
  {
   "cell_type": "code",
   "execution_count": 116,
   "id": "b6458362",
   "metadata": {},
   "outputs": [
    {
     "name": "stdout",
     "output_type": "stream",
     "text": [
      "[[10910    96    15]\n",
      " [   75  2888     0]\n",
      " [   48     0  2515]]\n"
     ]
    }
   ],
   "source": [
    "ylogPred = logisticReg.predict(X_Test)\n",
    "print(confusion_matrix(y_Test, model.predict(X_Test)))"
   ]
  },
  {
   "cell_type": "code",
   "execution_count": 121,
   "id": "3c36c275",
   "metadata": {},
   "outputs": [
    {
     "name": "stdout",
     "output_type": "stream",
     "text": [
      "Confusion Matrix: \n",
      "[[10910    96    15]\n",
      " [   75  2888     0]\n",
      " [   48     0  2515]]\n",
      "Accuracy: 98.59%\n",
      "Classification report - \n",
      "               precision    recall  f1-score   support\n",
      "\n",
      "      Normal       0.99      0.99      0.99     11021\n",
      "  Overweight       0.97      0.97      0.97      2963\n",
      " Underweight       0.99      0.98      0.99      2563\n",
      "\n",
      "    accuracy                           0.99     16547\n",
      "   macro avg       0.98      0.98      0.98     16547\n",
      "weighted avg       0.99      0.99      0.99     16547\n",
      "\n"
     ]
    }
   ],
   "source": [
    "print('Confusion Matrix: \\n'+str(confusion_matrix(y_Test, model.predict(X_Test))))\n",
    "\n",
    "\n",
    "print('Accuracy: '+str(round(accuracy_score(y_Test, ylogPred)*100,2))+'%')\n",
    "\n",
    "print(\"Classification report - \\n\", classification_report(y_Test,ylogPred))"
   ]
  },
  {
   "cell_type": "code",
   "execution_count": null,
   "id": "922f5146",
   "metadata": {},
   "outputs": [],
   "source": []
  }
 ],
 "metadata": {
  "kernelspec": {
   "display_name": "Python 3 (ipykernel)",
   "language": "python",
   "name": "python3"
  },
  "language_info": {
   "codemirror_mode": {
    "name": "ipython",
    "version": 3
   },
   "file_extension": ".py",
   "mimetype": "text/x-python",
   "name": "python",
   "nbconvert_exporter": "python",
   "pygments_lexer": "ipython3",
   "version": "3.9.7"
  }
 },
 "nbformat": 4,
 "nbformat_minor": 5
}
